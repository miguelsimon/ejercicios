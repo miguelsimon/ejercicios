{
 "cells": [
  {
   "cell_type": "markdown",
   "id": "75cac756",
   "metadata": {},
   "source": [
    "### PID: ejercicios\n",
    "\n",
    "Vamos a suponer que como punto de partida ya sabemos más o menos lo que es un [PID](https://en.wikipedia.org/wiki/PID_controller).\n",
    "\n",
    "Vamos a usar la siguiente parametrización de los coeficientes:"
   ]
  },
  {
   "cell_type": "markdown",
   "id": "a10ec3c9",
   "metadata": {},
   "source": [
    "$$\n",
    "u(t) = K_p e(t) + K_i \\int_0^t e(x)\\,dx + K_d\\frac{d}{dt}e(t)\n",
    "$$"
   ]
  },
  {
   "cell_type": "markdown",
   "id": "02a3fcc7",
   "metadata": {},
   "source": [
    "Nuestro problema es escribir un PID para controlar el nivel de un tanque de un cliente; el cliente tiene sus loops de control implementados en python y nos ha proporcionado un simulador de su sistema para ayudarnos a desarrollar nuestro PID.\n",
    "\n",
    "![diagram](diagram.png)\n",
    "\n",
    "El tanque es un cilindro.\n",
    "\n",
    "Controlamos una válvula en la tubería de entrada.\n",
    "\n",
    "La variable de proceso que queremos controlar es el nivel del tanque en metros, $level(t)$. Nuestra señal de control $u(t)$ será truncada a un valor entre 0 y 1 que representa la apertura de la válvula de entrada.\n",
    "\n",
    "Las dimensiones del sistema:\n"
   ]
  },
  {
   "cell_type": "code",
   "execution_count": 1,
   "id": "c4ca85a9",
   "metadata": {},
   "outputs": [
    {
     "name": "stdout",
     "output_type": "stream",
     "text": [
      "CYLINDER_RADIUS_METRES: 2.0\n",
      "DEMAND_BASELINE_RATE_M3_S: 0.5\n",
      "IN_MAX_FLOW_RATE_M3_S: 5.0\n",
      "IN_PIPE_RADIUS_METRES: 0.2\n",
      "MAX_LEVEL_METRES: 7.0\n",
      "MIN_LEVEL_METRES: 0.0\n",
      "OUT_MAX_FLOW_RATE_M3_S: 80.0\n",
      "OUT_PIPE_RADIUS_METRES: 1.0\n"
     ]
    }
   ],
   "source": [
    "import sim\n",
    "\n",
    "for k, v in sorted(sim.SPECS.items()):\n",
    "    print(f'{k}: {v}')"
   ]
  },
  {
   "cell_type": "markdown",
   "id": "1159a82a",
   "metadata": {},
   "source": [
    "Usan python: cuando el operario pulsa el botón de control PID el bucle de control del sistema inicializa el controlador y lo llama en bucle hasta que vuelve a control manual:\n",
    "\n",
    "```\n",
    "controller.initialize_controller(setpoint, v, dt)\n",
    "while control_is_on:\n",
    "    setpoint = get_setpoint()\n",
    "    v = get_level()\n",
    "    \n",
    "    controller.change_setpoint(setpoint)\n",
    "    output = controller.control(v)\n",
    "    output_between_0_1 = clip(0, 1, output)\n",
    "    in_valve.set(output)\n",
    "```\n",
    "\n",
    "El cliente nos ha proporcionado también código para el controlador que usan actualmente, se ha basado en el [pseudocódigo sencillo de wikipedia](https://en.wikipedia.org/wiki/PID_controller#Pseudocode):"
   ]
  },
  {
   "cell_type": "code",
   "execution_count": 2,
   "id": "def70800",
   "metadata": {},
   "outputs": [],
   "source": [
    "class Controller:\n",
    "    def __init__(self, kp, ki, kd):\n",
    "        self.kp = kp\n",
    "        self.ki = ki\n",
    "        self.kd = kd\n",
    "\n",
    "        self.dt = None\n",
    "        self.setpoint = None\n",
    "        self.integrated_error = None\n",
    "        self.previous_error = None\n",
    "\n",
    "    def initialize_controller(self, v, dt):\n",
    "        self.dt = dt\n",
    "        self.integral = 0\n",
    "        self.previous_error = 0\n",
    "\n",
    "    def change_setpoint(self, setpoint):\n",
    "        self.setpoint = setpoint\n",
    "\n",
    "    def get_output(self, v):\n",
    "        dt = self.dt\n",
    "\n",
    "        error = self.setpoint - v\n",
    "        proportional = error\n",
    "        self.integral = self.integral + error * dt\n",
    "        derivative = (error - self.previous_error) / dt\n",
    "\n",
    "        output = self.kp * error + self.ki * self.integral + self.kd * derivative\n",
    "\n",
    "        self.previous_error = error\n",
    "        return output"
   ]
  },
  {
   "cell_type": "markdown",
   "id": "24b2fb98",
   "metadata": {},
   "source": [
    "El resultado de aplicar su controlador a la simulación de operación normal coincide con lo que observan empíricamente."
   ]
  },
  {
   "cell_type": "code",
   "execution_count": 3,
   "id": "ac95b895",
   "metadata": {},
   "outputs": [
    {
     "data": {
      "text/html": [
       "<div>\n",
       "<style scoped>\n",
       "    .dataframe tbody tr th:only-of-type {\n",
       "        vertical-align: middle;\n",
       "    }\n",
       "\n",
       "    .dataframe tbody tr th {\n",
       "        vertical-align: top;\n",
       "    }\n",
       "\n",
       "    .dataframe thead th {\n",
       "        text-align: right;\n",
       "    }\n",
       "</style>\n",
       "<table border=\"1\" class=\"dataframe\">\n",
       "  <thead>\n",
       "    <tr style=\"text-align: right;\">\n",
       "      <th></th>\n",
       "      <th>time</th>\n",
       "      <th>m3</th>\n",
       "      <th>demand</th>\n",
       "      <th>setpoint</th>\n",
       "      <th>controller_output</th>\n",
       "      <th>delta_demand</th>\n",
       "      <th>in_signal</th>\n",
       "      <th>in_flow</th>\n",
       "      <th>out_flow</th>\n",
       "      <th>level</th>\n",
       "    </tr>\n",
       "  </thead>\n",
       "  <tbody>\n",
       "    <tr>\n",
       "      <th>0</th>\n",
       "      <td>0.00</td>\n",
       "      <td>62.831853</td>\n",
       "      <td>0.000</td>\n",
       "      <td>0.0</td>\n",
       "      <td>0.000000</td>\n",
       "      <td>0.000</td>\n",
       "      <td>0.000000</td>\n",
       "      <td>0.000000</td>\n",
       "      <td>0.000</td>\n",
       "      <td>5.000000</td>\n",
       "    </tr>\n",
       "    <tr>\n",
       "      <th>1</th>\n",
       "      <td>0.01</td>\n",
       "      <td>62.831853</td>\n",
       "      <td>0.000</td>\n",
       "      <td>5.0</td>\n",
       "      <td>0.000000</td>\n",
       "      <td>0.000</td>\n",
       "      <td>0.000000</td>\n",
       "      <td>0.000000</td>\n",
       "      <td>0.000</td>\n",
       "      <td>5.000000</td>\n",
       "    </tr>\n",
       "    <tr>\n",
       "      <th>2</th>\n",
       "      <td>0.02</td>\n",
       "      <td>62.831853</td>\n",
       "      <td>0.005</td>\n",
       "      <td>5.0</td>\n",
       "      <td>0.000000</td>\n",
       "      <td>0.005</td>\n",
       "      <td>0.000000</td>\n",
       "      <td>0.000000</td>\n",
       "      <td>0.000</td>\n",
       "      <td>5.000000</td>\n",
       "    </tr>\n",
       "    <tr>\n",
       "      <th>3</th>\n",
       "      <td>0.03</td>\n",
       "      <td>62.826853</td>\n",
       "      <td>0.005</td>\n",
       "      <td>5.0</td>\n",
       "      <td>0.000000</td>\n",
       "      <td>0.005</td>\n",
       "      <td>0.000000</td>\n",
       "      <td>0.000000</td>\n",
       "      <td>0.005</td>\n",
       "      <td>4.999602</td>\n",
       "    </tr>\n",
       "    <tr>\n",
       "      <th>4</th>\n",
       "      <td>0.04</td>\n",
       "      <td>62.821893</td>\n",
       "      <td>0.005</td>\n",
       "      <td>5.0</td>\n",
       "      <td>0.000798</td>\n",
       "      <td>0.005</td>\n",
       "      <td>0.000798</td>\n",
       "      <td>0.000040</td>\n",
       "      <td>0.005</td>\n",
       "      <td>4.999207</td>\n",
       "    </tr>\n",
       "    <tr>\n",
       "      <th>...</th>\n",
       "      <td>...</td>\n",
       "      <td>...</td>\n",
       "      <td>...</td>\n",
       "      <td>...</td>\n",
       "      <td>...</td>\n",
       "      <td>...</td>\n",
       "      <td>...</td>\n",
       "      <td>...</td>\n",
       "      <td>...</td>\n",
       "      <td>...</td>\n",
       "    </tr>\n",
       "    <tr>\n",
       "      <th>997</th>\n",
       "      <td>9.97</td>\n",
       "      <td>64.241421</td>\n",
       "      <td>0.005</td>\n",
       "      <td>5.0</td>\n",
       "      <td>0.278189</td>\n",
       "      <td>0.005</td>\n",
       "      <td>0.278189</td>\n",
       "      <td>0.013909</td>\n",
       "      <td>0.005</td>\n",
       "      <td>5.112170</td>\n",
       "    </tr>\n",
       "    <tr>\n",
       "      <th>998</th>\n",
       "      <td>9.98</td>\n",
       "      <td>64.250232</td>\n",
       "      <td>0.005</td>\n",
       "      <td>5.0</td>\n",
       "      <td>0.276210</td>\n",
       "      <td>0.005</td>\n",
       "      <td>0.276210</td>\n",
       "      <td>0.013811</td>\n",
       "      <td>0.005</td>\n",
       "      <td>5.112871</td>\n",
       "    </tr>\n",
       "    <tr>\n",
       "      <th>999</th>\n",
       "      <td>9.99</td>\n",
       "      <td>64.258944</td>\n",
       "      <td>0.005</td>\n",
       "      <td>5.0</td>\n",
       "      <td>0.274244</td>\n",
       "      <td>0.005</td>\n",
       "      <td>0.274244</td>\n",
       "      <td>0.013712</td>\n",
       "      <td>0.005</td>\n",
       "      <td>5.113564</td>\n",
       "    </tr>\n",
       "    <tr>\n",
       "      <th>1000</th>\n",
       "      <td>10.00</td>\n",
       "      <td>64.267558</td>\n",
       "      <td>0.005</td>\n",
       "      <td>5.0</td>\n",
       "      <td>0.272289</td>\n",
       "      <td>0.005</td>\n",
       "      <td>0.272289</td>\n",
       "      <td>0.013614</td>\n",
       "      <td>0.005</td>\n",
       "      <td>5.114250</td>\n",
       "    </tr>\n",
       "    <tr>\n",
       "      <th>1001</th>\n",
       "      <td>10.01</td>\n",
       "      <td>64.276076</td>\n",
       "      <td>0.005</td>\n",
       "      <td>5.0</td>\n",
       "      <td>0.270347</td>\n",
       "      <td>0.005</td>\n",
       "      <td>0.270347</td>\n",
       "      <td>0.013517</td>\n",
       "      <td>0.005</td>\n",
       "      <td>5.114928</td>\n",
       "    </tr>\n",
       "  </tbody>\n",
       "</table>\n",
       "<p>1002 rows × 10 columns</p>\n",
       "</div>"
      ],
      "text/plain": [
       "       time         m3  demand  setpoint  controller_output  delta_demand  \\\n",
       "0      0.00  62.831853   0.000       0.0           0.000000         0.000   \n",
       "1      0.01  62.831853   0.000       5.0           0.000000         0.000   \n",
       "2      0.02  62.831853   0.005       5.0           0.000000         0.005   \n",
       "3      0.03  62.826853   0.005       5.0           0.000000         0.005   \n",
       "4      0.04  62.821893   0.005       5.0           0.000798         0.005   \n",
       "...     ...        ...     ...       ...                ...           ...   \n",
       "997    9.97  64.241421   0.005       5.0           0.278189         0.005   \n",
       "998    9.98  64.250232   0.005       5.0           0.276210         0.005   \n",
       "999    9.99  64.258944   0.005       5.0           0.274244         0.005   \n",
       "1000  10.00  64.267558   0.005       5.0           0.272289         0.005   \n",
       "1001  10.01  64.276076   0.005       5.0           0.270347         0.005   \n",
       "\n",
       "      in_signal   in_flow  out_flow     level  \n",
       "0      0.000000  0.000000     0.000  5.000000  \n",
       "1      0.000000  0.000000     0.000  5.000000  \n",
       "2      0.000000  0.000000     0.000  5.000000  \n",
       "3      0.000000  0.000000     0.005  4.999602  \n",
       "4      0.000798  0.000040     0.005  4.999207  \n",
       "...         ...       ...       ...       ...  \n",
       "997    0.278189  0.013909     0.005  5.112170  \n",
       "998    0.276210  0.013811     0.005  5.112871  \n",
       "999    0.274244  0.013712     0.005  5.113564  \n",
       "1000   0.272289  0.013614     0.005  5.114250  \n",
       "1001   0.270347  0.013517     0.005  5.114928  \n",
       "\n",
       "[1002 rows x 10 columns]"
      ]
     },
     "execution_count": 3,
     "metadata": {},
     "output_type": "execute_result"
    }
   ],
   "source": [
    "controller = Controller(2.0, 0.5, 0.0)\n",
    "df, events = sim.simulate_normal(controller)\n",
    "df"
   ]
  },
  {
   "cell_type": "code",
   "execution_count": 4,
   "id": "382dbbe9",
   "metadata": {},
   "outputs": [
    {
     "data": {
      "text/plain": [
       "(<Figure size 640x480 with 2 Axes>, <Axes: xlabel='seconds', ylabel='level'>)"
      ]
     },
     "execution_count": 4,
     "metadata": {},
     "output_type": "execute_result"
    },
    {
     "data": {
      "image/png": "[encoded data removed]",
      "text/plain": [
       "<Figure size 640x480 with 2 Axes>"
      ]
     },
     "metadata": {},
     "output_type": "display_data"
    }
   ],
   "source": [
    "sim.plot_simulation(df, events)"
   ]
  },
  {
   "cell_type": "markdown",
   "id": "25092c3f",
   "metadata": {},
   "source": [
    "### Ejercicio 1\n",
    "\n",
    "El cliente ha detectado que otros sistemas downstream de la tubería de entrada estaban mal especificados y corren riesgo catastrófico de martillo hidráulico si la velocidad en la tubería supera los $120 \\frac{km}{h}$.\n",
    "\n",
    "Han medido velocidades en exceso de $140 \\frac{km}{h}$ en comportamiento normal con los settings de PID actuales.\n",
    "\n",
    "El cliente tendrá que parar la instalación a no ser que se pueda garantizar que no habrá ninguna combinación de cambios de setpoint y condiciones de demanda que puedan llevar a superar esta velocidad en la tubería de entrada. Por razones de certificación tampoco permiten cambios en el código: solo pueden llevar a cabo cambios en los coeficientes del PID.\n",
    "\n",
    "**¿Hay alguna forma de cambiar los coeficientes de PID para garantizar esta condición?** Así la instalación podrá seguir abierta aunque con funcionamiento degradado.\n",
    "\n",
    "No es suficiente que la velocidad se mantenga debajo del umbral en las simulaciones: el cliente necesita un argumento que demuestre que los coeficientes funcionarán para cualquier situación."
   ]
  },
  {
   "cell_type": "markdown",
   "id": "2bcbcfe7",
   "metadata": {},
   "source": [
    "### Ejercicio 2\n",
    "\n",
    "Los operarios han observado que cuando encienden el sistema con el tanque vacío la bomba sigue en marcha mucho tiempo después de llegar al setpoint, haciendo rebasar el nivel del tanque y malgastando agua.\n",
    "\n",
    "Por ahora lo mitigan subiendo el setpoint a mano gradualmente cuando se dan cuenta: algunos argumentan que podrían evitar este comportamiento totalmente eliminando el coeficiente integral $K_i$ pero otros se resisten ya que han observado que cuando eliminan el coeficiente integral las bombas se rompen con más frecuencia.\n",
    "\n",
    "**¿Puedes escribir un controlador alternativo `Controller2` modificando el `Controller` original que resuelva esto sin tener que eliminar el control integral?**"
   ]
  },
  {
   "cell_type": "code",
   "execution_count": 5,
   "id": "10f3ed98",
   "metadata": {},
   "outputs": [
    {
     "data": {
      "text/plain": [
       "(<Figure size 640x480 with 2 Axes>, <Axes: xlabel='seconds', ylabel='level'>)"
      ]
     },
     "execution_count": 5,
     "metadata": {},
     "output_type": "execute_result"
    },
    {
     "data": {
      "image/png": "[encoded data removed]",
      "text/plain": [
       "<Figure size 640x480 with 2 Axes>"
      ]
     },
     "metadata": {},
     "output_type": "display_data"
    }
   ],
   "source": [
    "controller = Controller(2.0, 0.5, 0.0)\n",
    "df, events = sim.simulate_strange(controller)\n",
    "sim.plot_simulation(df, events)"
   ]
  },
  {
   "cell_type": "code",
   "execution_count": null,
   "id": "f572b70b",
   "metadata": {},
   "outputs": [],
   "source": []
  }
 ],
 "metadata": {
  "kernelspec": {
   "display_name": "Python 3 (ipykernel)",
   "language": "python",
   "name": "python3"
  },
  "language_info": {
   "codemirror_mode": {
    "name": "ipython",
    "version": 3
   },
   "file_extension": ".py",
   "mimetype": "text/x-python",
   "name": "python",
   "nbconvert_exporter": "python",
   "pygments_lexer": "ipython3",
   "version": "3.10.9"
  }
 },
 "nbformat": 4,
 "nbformat_minor": 5
}
